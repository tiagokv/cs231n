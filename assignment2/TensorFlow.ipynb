{
 "cells": [
  {
   "cell_type": "markdown",
   "metadata": {},
   "source": [
    "## What's this TensorFlow business?\n",
    "\n",
    "You've written a lot of code in this assignment to provide a whole host of neural network functionality. Dropout, Batch Norm, and 2D convolutions are some of the workhorses of deep learning in computer vision. You've also worked hard to make your code efficient and vectorized.\n",
    "\n",
    "For the last part of this assignment, though, we're going to leave behind your beautiful codebase and instead migrate to one of two popular deep learning frameworks: in this instance, TensorFlow (or PyTorch, if you switch over to that notebook)\n",
    "\n",
    "#### What is it?\n",
    "TensorFlow is a system for executing computational graphs over Tensor objects, with native support for performing backpropogation for its Variables. In it, we work with Tensors which are n-dimensional arrays analogous to the numpy ndarray.\n",
    "\n",
    "#### Why?\n",
    "\n",
    "* Our code will now run on GPUs! Much faster training. Writing your own modules to run on GPUs is beyond the scope of this class, unfortunately.\n",
    "* We want you to be ready to use one of these frameworks for your project so you can experiment more efficiently than if you were writing every feature you want to use by hand. \n",
    "* We want you to stand on the shoulders of giants! TensorFlow and PyTorch are both excellent frameworks that will make your lives a lot easier, and now that you understand their guts, you are free to use them :) \n",
    "* We want you to be exposed to the sort of deep learning code you might run into in academia or industry. "
   ]
  },
  {
   "cell_type": "markdown",
   "metadata": {},
   "source": [
    "## How will I learn TensorFlow?\n",
    "\n",
    "TensorFlow has many excellent tutorials available, including those from [Google themselves](https://www.tensorflow.org/get_started/get_started).\n",
    "\n",
    "Otherwise, this notebook will walk you through much of what you need to do to train models in TensorFlow. See the end of the notebook for some links to helpful tutorials if you want to learn more or need further clarification on topics that aren't fully explained here."
   ]
  },
  {
   "cell_type": "markdown",
   "metadata": {},
   "source": [
    "## Load Datasets\n"
   ]
  },
  {
   "cell_type": "code",
   "execution_count": 1,
   "metadata": {},
   "outputs": [],
   "source": [
    "import tensorflow as tf\n",
    "import numpy as np\n",
    "import math\n",
    "import timeit\n",
    "import matplotlib.pyplot as plt\n",
    "%matplotlib inline"
   ]
  },
  {
   "cell_type": "code",
   "execution_count": 2,
   "metadata": {},
   "outputs": [
    {
     "name": "stdout",
     "output_type": "stream",
     "text": [
      "Train data shape:  (49000, 32, 32, 3)\n",
      "Train labels shape:  (49000,)\n",
      "Validation data shape:  (1000, 32, 32, 3)\n",
      "Validation labels shape:  (1000,)\n",
      "Test data shape:  (10000, 32, 32, 3)\n",
      "Test labels shape:  (10000,)\n"
     ]
    }
   ],
   "source": [
    "from cs231n.data_utils import load_CIFAR10\n",
    "\n",
    "def get_CIFAR10_data(num_training=49000, num_validation=1000, num_test=10000):\n",
    "    \"\"\"\n",
    "    Load the CIFAR-10 dataset from disk and perform preprocessing to prepare\n",
    "    it for the two-layer neural net classifier. These are the same steps as\n",
    "    we used for the SVM, but condensed to a single function.  \n",
    "    \"\"\"\n",
    "    # Load the raw CIFAR-10 data\n",
    "    cifar10_dir = 'cs231n/datasets/cifar-10-batches-py'\n",
    "    X_train, y_train, X_test, y_test = load_CIFAR10(cifar10_dir)\n",
    "\n",
    "    # Subsample the data\n",
    "    mask = range(num_training, num_training + num_validation)\n",
    "    X_val = X_train[mask]\n",
    "    y_val = y_train[mask]\n",
    "    mask = range(num_training)\n",
    "    X_train = X_train[mask]\n",
    "    y_train = y_train[mask]\n",
    "    mask = range(num_test)\n",
    "    X_test = X_test[mask]\n",
    "    y_test = y_test[mask]\n",
    "\n",
    "    # Normalize the data: subtract the mean image\n",
    "    mean_image = np.mean(X_train, axis=0)\n",
    "    X_train -= mean_image\n",
    "    X_val -= mean_image\n",
    "    X_test -= mean_image\n",
    "\n",
    "    return X_train, y_train, X_val, y_val, X_test, y_test\n",
    "\n",
    "\n",
    "# Invoke the above function to get our data.\n",
    "X_train, y_train, X_val, y_val, X_test, y_test = get_CIFAR10_data()\n",
    "print('Train data shape: ', X_train.shape)\n",
    "print('Train labels shape: ', y_train.shape)\n",
    "print('Validation data shape: ', X_val.shape)\n",
    "print('Validation labels shape: ', y_val.shape)\n",
    "print('Test data shape: ', X_test.shape)\n",
    "print('Test labels shape: ', y_test.shape)"
   ]
  },
  {
   "cell_type": "markdown",
   "metadata": {},
   "source": [
    "## Example Model\n",
    "\n",
    "### Some useful utilities\n",
    "\n",
    ". Remember that our image data is initially N x H x W x C, where:\n",
    "* N is the number of datapoints\n",
    "* H is the height of each image in pixels\n",
    "* W is the height of each image in pixels\n",
    "* C is the number of channels (usually 3: R, G, B)\n",
    "\n",
    "This is the right way to represent the data when we are doing something like a 2D convolution, which needs spatial understanding of where the pixels are relative to each other. When we input image data into fully connected affine layers, however, we want each data example to be represented by a single vector -- it's no longer useful to segregate the different channels, rows, and columns of the data."
   ]
  },
  {
   "cell_type": "markdown",
   "metadata": {},
   "source": [
    "### The example model itself\n",
    "\n",
    "The first step to training your own model is defining its architecture.\n",
    "\n",
    "Here's an example of a convolutional neural network defined in TensorFlow -- try to understand what each line is doing, remembering that each layer is composed upon the previous layer. We haven't trained anything yet - that'll come next - for now, we want you to understand how everything gets set up. \n",
    "\n",
    "In that example, you see 2D convolutional layers (Conv2d), ReLU activations, and fully-connected layers (Linear). You also see the Hinge loss function, and the Adam optimizer being used. \n",
    "\n",
    "Make sure you understand why the parameters of the Linear layer are 5408 and 10.\n",
    "\n",
    "### TensorFlow Details\n",
    "In TensorFlow, much like in our previous notebooks, we'll first specifically initialize our variables, and then our network model."
   ]
  },
  {
   "cell_type": "code",
   "execution_count": 3,
   "metadata": {},
   "outputs": [],
   "source": [
    "# clear old variables\n",
    "tf.reset_default_graph()\n",
    "\n",
    "# setup input (e.g. the data that changes every batch)\n",
    "# The first dim is None, and gets sets automatically based on batch size fed in\n",
    "X = tf.placeholder(tf.float32, [None, 32, 32, 3])\n",
    "y = tf.placeholder(tf.int64, [None])\n",
    "is_training = tf.placeholder(tf.bool)\n",
    "\n",
    "def simple_model(X,y):\n",
    "    # define our weights (e.g. init_two_layer_convnet)\n",
    "    \n",
    "    # setup variables\n",
    "    Wconv1 = tf.get_variable(\"Wconv1\", shape=[7, 7, 3, 32])\n",
    "    bconv1 = tf.get_variable(\"bconv1\", shape=[32])\n",
    "    W1 = tf.get_variable(\"W1\", shape=[5408, 10])\n",
    "    b1 = tf.get_variable(\"b1\", shape=[10])\n",
    "\n",
    "    # define our graph (e.g. two_layer_convnet)\n",
    "    a1 = tf.nn.conv2d(X, Wconv1, strides=[1,2,2,1], padding='VALID') + bconv1\n",
    "    h1 = tf.nn.relu(a1)\n",
    "    h1_flat = tf.reshape(h1,[-1,5408])\n",
    "    y_out = tf.matmul(h1_flat,W1) + b1\n",
    "    return y_out\n",
    "\n",
    "y_out = simple_model(X,y)\n",
    "\n",
    "# define our loss\n",
    "total_loss = tf.losses.hinge_loss(tf.one_hot(y,10),logits=y_out)\n",
    "mean_loss = tf.reduce_mean(total_loss)\n",
    "\n",
    "# define our optimizer\n",
    "optimizer = tf.train.AdamOptimizer(5e-4) # select optimizer and set learning rate\n",
    "train_step = optimizer.minimize(mean_loss)"
   ]
  },
  {
   "cell_type": "markdown",
   "metadata": {},
   "source": [
    "TensorFlow supports many other layer types, loss functions, and optimizers - you will experiment with these next. Here's the official API documentation for these (if any of the parameters used above were unclear, this resource will also be helpful). \n",
    "\n",
    "* Layers, Activations, Loss functions : https://www.tensorflow.org/api_guides/python/nn\n",
    "* Optimizers: https://www.tensorflow.org/api_guides/python/train#Optimizers\n",
    "* BatchNorm: https://www.tensorflow.org/api_docs/python/tf/layers/batch_normalization"
   ]
  },
  {
   "cell_type": "markdown",
   "metadata": {},
   "source": [
    "### Training the model on one epoch\n",
    "While we have defined a graph of operations above, in order to execute TensorFlow Graphs, by feeding them input data and computing the results, we first need to create a `tf.Session` object. A session encapsulates the control and state of the TensorFlow runtime. For more information, see the TensorFlow [Getting started](https://www.tensorflow.org/get_started/get_started) guide.\n",
    "\n",
    "Optionally we can also specify a device context such as `/cpu:0` or `/gpu:0`. For documentation on this behavior see [this TensorFlow guide](https://www.tensorflow.org/tutorials/using_gpu)\n",
    "\n",
    "You should see a validation loss of around 0.4 to 0.6 and an accuracy of 0.30 to 0.35 below"
   ]
  },
  {
   "cell_type": "code",
   "execution_count": 4,
   "metadata": {},
   "outputs": [
    {
     "name": "stdout",
     "output_type": "stream",
     "text": [
      "Training\n",
      "Iteration 0: with minibatch training loss = 10.8 and accuracy of 0.11\n",
      "Iteration 100: with minibatch training loss = 1 and accuracy of 0.25\n",
      "Iteration 200: with minibatch training loss = 0.735 and accuracy of 0.31\n",
      "Iteration 300: with minibatch training loss = 0.659 and accuracy of 0.38\n",
      "Iteration 400: with minibatch training loss = 0.63 and accuracy of 0.36\n",
      "Iteration 500: with minibatch training loss = 0.475 and accuracy of 0.39\n",
      "Iteration 600: with minibatch training loss = 0.503 and accuracy of 0.31\n",
      "Iteration 700: with minibatch training loss = 0.411 and accuracy of 0.39\n",
      "Epoch 1, Overall loss = 0.75 and accuracy of 0.318\n"
     ]
    },
    {
     "data": {
      "image/png": "[encoded data removed]",
      "text/plain": [
       "<matplotlib.figure.Figure at 0x7f607a86c940>"
      ]
     },
     "metadata": {},
     "output_type": "display_data"
    },
    {
     "name": "stdout",
     "output_type": "stream",
     "text": [
      "Validation\n",
      "Epoch 1, Overall loss = 0.454 and accuracy of 0.354\n"
     ]
    }
   ],
   "source": [
    "def run_model(session, predict, loss_val, Xd, yd,\n",
    "              epochs=1, batch_size=64, print_every=100,\n",
    "              training=None, plot_losses=False):\n",
    "    # have tensorflow compute accuracy\n",
    "    correct_prediction = tf.equal(tf.argmax(predict,1), y)\n",
    "    accuracy = tf.reduce_mean(tf.cast(correct_prediction, tf.float32))\n",
    "    \n",
    "    # shuffle indicies\n",
    "    train_indicies = np.arange(Xd.shape[0])\n",
    "    np.random.shuffle(train_indicies)\n",
    "\n",
    "    training_now = training is not None\n",
    "    \n",
    "    # setting up variables we want to compute (and optimizing)\n",
    "    # if we have a training function, add that to things we compute\n",
    "    variables = [loss_val, correct_prediction,accuracy]\n",
    "    if training_now:\n",
    "        variables[-1] = training\n",
    "    \n",
    "    # counter \n",
    "    iter_cnt = 0\n",
    "    for e in range(epochs):\n",
    "        # keep track of losses and accuracy\n",
    "        correct = 0\n",
    "        losses = []\n",
    "        # make sure we iterate over the dataset once\n",
    "        for i in range(int(math.ceil(Xd.shape[0]/batch_size))):\n",
    "            # generate indicies for the batch\n",
    "            start_idx = (i*batch_size)%Xd.shape[0]\n",
    "            idx = train_indicies[start_idx:start_idx+batch_size]\n",
    "            \n",
    "            # create a feed dictionary for this batch\n",
    "            feed_dict = {X: Xd[idx,:],\n",
    "                         y: yd[idx],\n",
    "                         is_training: training_now }\n",
    "            # get batch size\n",
    "            actual_batch_size = yd[idx].shape[0]\n",
    "            \n",
    "            # have tensorflow compute loss and correct predictions\n",
    "            # and (if given) perform a training step\n",
    "            loss, corr, _ = session.run(variables,feed_dict=feed_dict)\n",
    "\n",
    "            # aggregate performance stats\n",
    "            losses.append(loss*actual_batch_size)\n",
    "            correct += np.sum(corr)\n",
    "            \n",
    "            # print every now and then\n",
    "            if training_now and print_every > 0 and (iter_cnt % print_every) == 0:\n",
    "                print(\"Iteration {0}: with minibatch training loss = {1:.3g} and accuracy of {2:.2g}\"\\\n",
    "                      .format(iter_cnt,loss,np.sum(corr)/actual_batch_size))\n",
    "            iter_cnt += 1\n",
    "        total_correct = correct/Xd.shape[0]\n",
    "        total_loss = np.sum(losses)/Xd.shape[0]\n",
    "        print(\"Epoch {2}, Overall loss = {0:.3g} and accuracy of {1:.3g}\"\\\n",
    "              .format(total_loss,total_correct,e+1))\n",
    "        if plot_losses:\n",
    "            plt.plot(losses)\n",
    "            plt.grid(True)\n",
    "            plt.title('Epoch {} Loss'.format(e+1))\n",
    "            plt.xlabel('minibatch number')\n",
    "            plt.ylabel('minibatch loss')\n",
    "            plt.show()\n",
    "    return total_loss,total_correct\n",
    "\n",
    "with tf.Session() as sess:\n",
    "    with tf.device(\"/gpu:0\"): #\"/cpu:0\" or \"/gpu:0\" \n",
    "        sess.run(tf.global_variables_initializer())\n",
    "        print('Training')\n",
    "        run_model(sess,y_out,mean_loss,X_train,y_train,1,64,100,train_step,True)\n",
    "        print('Validation')\n",
    "        run_model(sess,y_out,mean_loss,X_val,y_val,1,64)"
   ]
  },
  {
   "cell_type": "markdown",
   "metadata": {},
   "source": [
    "## Training a specific model\n",
    "\n",
    "In this section, we're going to specify a model for you to construct. The goal here isn't to get good performance (that'll be next), but instead to get comfortable with understanding the TensorFlow documentation and configuring your own model. \n",
    "\n",
    "Using the code provided above as guidance, and using the following TensorFlow documentation, specify a model with the following architecture:\n",
    "\n",
    "* 7x7 Convolutional Layer with 32 filters and stride of 1\n",
    "* ReLU Activation Layer\n",
    "* Spatial Batch Normalization Layer (trainable parameters, with scale and centering)\n",
    "* 2x2 Max Pooling layer with a stride of 2\n",
    "* Affine layer with 1024 output units\n",
    "* ReLU Activation Layer\n",
    "* Affine layer from 1024 input units to 10 outputs\n",
    "\n"
   ]
  },
  {
   "cell_type": "code",
   "execution_count": 5,
   "metadata": {},
   "outputs": [],
   "source": [
    "# clear old variables\n",
    "tf.reset_default_graph()\n",
    "\n",
    "# define our input (e.g. the data that changes every batch)\n",
    "# The first dim is None, and gets sets automatically based on batch size fed in\n",
    "X = tf.placeholder(tf.float32, [None, 32, 32, 3])\n",
    "y = tf.placeholder(tf.int64, [None])\n",
    "is_training = tf.placeholder(tf.bool)\n",
    "\n",
    "# define model\n",
    "def complex_model(X,y,is_training):\n",
    "    # setup variables\n",
    "    Wconv1 = tf.get_variable(\"Wconv1\", shape=[7, 7, 3, 32])\n",
    "    bconv1 = tf.get_variable(\"bconv1\", shape=[32])\n",
    "    \n",
    "    W1 = tf.get_variable(\"W1\", shape=[5408, 1024])\n",
    "    b1 = tf.get_variable(\"b1\", shape=[1024])\n",
    "    \n",
    "    W2 = tf.get_variable(\"W2\", shape=[1024, 10])\n",
    "    b2 = tf.get_variable(\"b2\", shape=[10])\n",
    "\n",
    "    # define our graph (e.g. two_layer_convnet)\n",
    "    out = tf.nn.conv2d(X, Wconv1, strides=[1,1,1,1], padding='VALID') + bconv1\n",
    "    out = tf.nn.relu(out)\n",
    "    out = tf.contrib.layers.batch_norm(out, scale=True, is_training=is_training)\n",
    "    out = tf.contrib.layers.max_pool2d(out, 2, stride=2)\n",
    "    out = tf.reshape(out, [-1, 5408])\n",
    "    out = tf.matmul(out, W1) + b1\n",
    "    out = tf.nn.relu(out)\n",
    "    out = tf.matmul(out, W2) + b2\n",
    "    return out\n",
    "\n",
    "y_out = complex_model(X,y,is_training)"
   ]
  },
  {
   "cell_type": "markdown",
   "metadata": {},
   "source": [
    "To make sure you're doing the right thing, use the following tool to check the dimensionality of your output (it should be 64 x 10, since our batches have size 64 and the output of the final affine layer should be 10, corresponding to our 10 classes):"
   ]
  },
  {
   "cell_type": "code",
   "execution_count": 6,
   "metadata": {},
   "outputs": [
    {
     "name": "stdout",
     "output_type": "stream",
     "text": [
      "2.72 ms ± 95.6 µs per loop (mean ± std. dev. of 7 runs, 100 loops each)\n",
      "(64, 10)\n",
      "True\n"
     ]
    }
   ],
   "source": [
    "# Now we're going to feed a random batch into the model \n",
    "# and make sure the output is the right size\n",
    "x = np.random.randn(64, 32, 32,3)\n",
    "with tf.Session() as sess:\n",
    "    with tf.device(\"/cpu:0\"): #\"/cpu:0\" or \"/gpu:0\"\n",
    "        tf.global_variables_initializer().run()\n",
    "\n",
    "        ans = sess.run(y_out,feed_dict={X:x,is_training:True})\n",
    "        %timeit sess.run(y_out,feed_dict={X:x,is_training:True})\n",
    "        print(ans.shape)\n",
    "        print(np.array_equal(ans.shape, np.array([64, 10])))"
   ]
  },
  {
   "cell_type": "markdown",
   "metadata": {},
   "source": [
    "You should see the following from the run above \n",
    "\n",
    "`(64, 10)`\n",
    "\n",
    "`True`"
   ]
  },
  {
   "cell_type": "markdown",
   "metadata": {},
   "source": [
    "### GPU!\n",
    "\n",
    "Now, we're going to try and start the model under the GPU device, the rest of the code stays unchanged and all our variables and operations will be computed using accelerated code paths. However, if there is no GPU, we get a Python exception and have to rebuild our graph. On a dual-core CPU, you might see around 50-80ms/batch running the above, while the Google Cloud GPUs (run below) should be around 2-5ms/batch."
   ]
  },
  {
   "cell_type": "code",
   "execution_count": 7,
   "metadata": {},
   "outputs": [
    {
     "name": "stdout",
     "output_type": "stream",
     "text": [
      "2.72 ms ± 19.1 µs per loop (mean ± std. dev. of 7 runs, 100 loops each)\n"
     ]
    }
   ],
   "source": [
    "try:\n",
    "    with tf.Session() as sess:\n",
    "        with tf.device(\"/gpu:0\") as dev: #\"/cpu:0\" or \"/gpu:0\"\n",
    "            tf.global_variables_initializer().run()\n",
    "\n",
    "            ans = sess.run(y_out,feed_dict={X:x,is_training:True})\n",
    "            %timeit sess.run(y_out,feed_dict={X:x,is_training:True})\n",
    "except tf.errors.InvalidArgumentError:\n",
    "    print(\"no gpu found, please use Google Cloud if you want GPU acceleration\")    \n",
    "    # rebuild the graph\n",
    "    # trying to start a GPU throws an exception \n",
    "    # and also trashes the original graph\n",
    "    tf.reset_default_graph()\n",
    "    X = tf.placeholder(tf.float32, [None, 32, 32, 3])\n",
    "    y = tf.placeholder(tf.int64, [None])\n",
    "    is_training = tf.placeholder(tf.bool)\n",
    "    y_out = complex_model(X,y,is_training)"
   ]
  },
  {
   "cell_type": "markdown",
   "metadata": {},
   "source": [
    "You should observe that even a simple forward pass like this is significantly faster on the GPU. So for the rest of the assignment (and when you go train your models in assignment 3 and your project!), you should use GPU devices. However, with TensorFlow, the default device is a GPU if one is available, and a CPU otherwise, so we can skip the device specification from now on."
   ]
  },
  {
   "cell_type": "markdown",
   "metadata": {},
   "source": [
    "### Train the model.\n",
    "\n",
    "Now that you've seen how to define a model and do a single forward pass of some data through it, let's  walk through how you'd actually train one whole epoch over your training data (using the complex_model you created provided above).\n",
    "\n",
    "Make sure you understand how each TensorFlow function used below corresponds to what you implemented in your custom neural network implementation.\n",
    "\n",
    "First, set up an **RMSprop optimizer** (using a 1e-3 learning rate) and a **cross-entropy loss** function. See the TensorFlow documentation for more information\n",
    "* Layers, Activations, Loss functions : https://www.tensorflow.org/api_guides/python/nn\n",
    "* Optimizers: https://www.tensorflow.org/api_guides/python/train#Optimizers"
   ]
  },
  {
   "cell_type": "code",
   "execution_count": 8,
   "metadata": {},
   "outputs": [],
   "source": [
    "# Inputs\n",
    "#     y_out: is what your model computes\n",
    "#     y: is your TensorFlow variable with label information\n",
    "# Outputs\n",
    "#    mean_loss: a TensorFlow variable (scalar) with numerical loss\n",
    "#    optimizer: a TensorFlow optimizer\n",
    "# This should be ~3 lines of code!\n",
    "mean_loss = tf.reduce_mean(tf.losses.softmax_cross_entropy(tf.one_hot(y, 10), y_out))\n",
    "optimizer = tf.train.RMSPropOptimizer(1e-3)\n"
   ]
  },
  {
   "cell_type": "code",
   "execution_count": 9,
   "metadata": {},
   "outputs": [],
   "source": [
    "# batch normalization in tensorflow requires this extra dependency\n",
    "extra_update_ops = tf.get_collection(tf.GraphKeys.UPDATE_OPS)\n",
    "with tf.control_dependencies(extra_update_ops):\n",
    "    train_step = optimizer.minimize(mean_loss)"
   ]
  },
  {
   "cell_type": "markdown",
   "metadata": {},
   "source": [
    "### Train the model\n",
    "Below we'll create a session and train the model over one epoch. You should see a loss of 1.4 to 2.0 and an accuracy of 0.4 to 0.5. There will be some variation due to random seeds and differences in initialization"
   ]
  },
  {
   "cell_type": "code",
   "execution_count": 10,
   "metadata": {},
   "outputs": [
    {
     "name": "stdout",
     "output_type": "stream",
     "text": [
      "Training\n",
      "Iteration 0: with minibatch training loss = 3.05 and accuracy of 0.17\n",
      "Iteration 100: with minibatch training loss = 2.16 and accuracy of 0.47\n",
      "Iteration 200: with minibatch training loss = 2.03 and accuracy of 0.31\n",
      "Iteration 300: with minibatch training loss = 1.23 and accuracy of 0.5\n",
      "Iteration 400: with minibatch training loss = 1.5 and accuracy of 0.5\n",
      "Iteration 500: with minibatch training loss = 1.58 and accuracy of 0.45\n",
      "Iteration 600: with minibatch training loss = 1.17 and accuracy of 0.53\n",
      "Iteration 700: with minibatch training loss = 1.14 and accuracy of 0.58\n",
      "Epoch 1, Overall loss = 1.68 and accuracy of 0.45\n"
     ]
    },
    {
     "data": {
      "text/plain": [
       "(1.68176387202983, 0.45026530612244897)"
      ]
     },
     "execution_count": 10,
     "metadata": {},
     "output_type": "execute_result"
    }
   ],
   "source": [
    "sess = tf.Session()\n",
    "\n",
    "sess.run(tf.global_variables_initializer())\n",
    "print('Training')\n",
    "run_model(sess,y_out,mean_loss,X_train,y_train,1,64,100,train_step)"
   ]
  },
  {
   "cell_type": "markdown",
   "metadata": {},
   "source": [
    "### Check the accuracy of the model.\n",
    "\n",
    "Let's see the train and test code in action -- feel free to use these methods when evaluating the models you develop below. You should see a loss of 1.3 to 2.0 with an accuracy of 0.45 to 0.55."
   ]
  },
  {
   "cell_type": "code",
   "execution_count": 11,
   "metadata": {},
   "outputs": [
    {
     "name": "stdout",
     "output_type": "stream",
     "text": [
      "Validation\n",
      "Epoch 1, Overall loss = 2.35 and accuracy of 0.453\n"
     ]
    },
    {
     "data": {
      "text/plain": [
       "(2.3492137145996095, 0.45300000000000001)"
      ]
     },
     "execution_count": 11,
     "metadata": {},
     "output_type": "execute_result"
    }
   ],
   "source": [
    "print('Validation')\n",
    "run_model(sess,y_out,mean_loss,X_val,y_val,1,64)"
   ]
  },
  {
   "cell_type": "markdown",
   "metadata": {},
   "source": [
    "## Train a _great_ model on CIFAR-10!\n",
    "\n",
    "Now it's your job to experiment with architectures, hyperparameters, loss functions, and optimizers to train a model that achieves ** >= 70% accuracy on the validation set** of CIFAR-10. You can use the `run_model` function from above."
   ]
  },
  {
   "cell_type": "markdown",
   "metadata": {},
   "source": [
    "### Things you should try:\n",
    "- **Filter size**: Above we used 7x7; this makes pretty pictures but smaller filters may be more efficient\n",
    "- **Number of filters**: Above we used 32 filters. Do more or fewer do better?\n",
    "- **Pooling vs Strided Convolution**: Do you use max pooling or just stride convolutions?\n",
    "- **Batch normalization**: Try adding spatial batch normalization after convolution layers and vanilla batch normalization after affine layers. Do your networks train faster?\n",
    "- **Network architecture**: The network above has two layers of trainable parameters. Can you do better with a deep network? Good architectures to try include:\n",
    "    - [conv-relu-pool]xN -> [affine]xM -> [softmax or SVM]\n",
    "    - [conv-relu-conv-relu-pool]xN -> [affine]xM -> [softmax or SVM]\n",
    "    - [batchnorm-relu-conv]xN -> [affine]xM -> [softmax or SVM]\n",
    "- **Use TensorFlow Scope**: Use TensorFlow scope and/or [tf.layers](https://www.tensorflow.org/api_docs/python/tf/layers) to make it easier to write deeper networks. See [this tutorial](https://www.tensorflow.org/tutorials/layers) for how to use `tf.layers`. \n",
    "- **Use Learning Rate Decay**: [As the notes point out](http://cs231n.github.io/neural-networks-3/#anneal), decaying the learning rate might help the model converge. Feel free to decay every epoch, when loss doesn't change over an entire epoch, or any other heuristic you find appropriate. See the [Tensorflow documentation](https://www.tensorflow.org/versions/master/api_guides/python/train#Decaying_the_learning_rate) for learning rate decay.\n",
    "- **Global Average Pooling**: Instead of flattening and then having multiple affine layers, perform convolutions until your image gets small (7x7 or so) and then perform an average pooling operation to get to a 1x1 image picture (1, 1 , Filter#), which is then reshaped into a (Filter#) vector. This is used in [Google's Inception Network](https://arxiv.org/abs/1512.00567) (See Table 1 for their architecture).\n",
    "- **Regularization**: Add l2 weight regularization, or perhaps use [Dropout as in the TensorFlow MNIST tutorial](https://www.tensorflow.org/get_started/mnist/pros)\n",
    "\n",
    "### Tips for training\n",
    "For each network architecture that you try, you should tune the learning rate and regularization strength. When doing this there are a couple important things to keep in mind:\n",
    "\n",
    "- If the parameters are working well, you should see improvement within a few hundred iterations\n",
    "- Remember the coarse-to-fine approach for hyperparameter tuning: start by testing a large range of hyperparameters for just a few training iterations to find the combinations of parameters that are working at all.\n",
    "- Once you have found some sets of parameters that seem to work, search more finely around these parameters. You may need to train for more epochs.\n",
    "- You should use the validation set for hyperparameter search, and we'll save the test set for evaluating your architecture on the best parameters as selected by the validation set.\n",
    "\n",
    "### Going above and beyond\n",
    "If you are feeling adventurous there are many other features you can implement to try and improve your performance. You are **not required** to implement any of these; however they would be good things to try for extra credit.\n",
    "\n",
    "- Alternative update steps: For the assignment we implemented SGD+momentum, RMSprop, and Adam; you could try alternatives like AdaGrad or AdaDelta.\n",
    "- Alternative activation functions such as leaky ReLU, parametric ReLU, ELU, or MaxOut.\n",
    "- Model ensembles\n",
    "- Data augmentation\n",
    "- New Architectures\n",
    "  - [ResNets](https://arxiv.org/abs/1512.03385) where the input from the previous layer is added to the output.\n",
    "  - [DenseNets](https://arxiv.org/abs/1608.06993) where inputs into previous layers are concatenated together.\n",
    "  - [This blog has an in-depth overview](https://chatbotslife.com/resnets-highwaynets-and-densenets-oh-my-9bb15918ee32)\n",
    "\n",
    "If you do decide to implement something extra, clearly describe it in the \"Extra Credit Description\" cell below.\n",
    "\n",
    "### What we expect\n",
    "At the very least, you should be able to train a ConvNet that gets at **>= 70% accuracy on the validation set**. This is just a lower bound - if you are careful it should be possible to get accuracies much higher than that! Extra credit points will be awarded for particularly high-scoring models or unique approaches.\n",
    "\n",
    "You should use the space below to experiment and train your network. The final cell in this notebook should contain the training and validation set accuracies for your final trained network.\n",
    "\n",
    "Have fun and happy training!"
   ]
  },
  {
   "cell_type": "code",
   "execution_count": 12,
   "metadata": {},
   "outputs": [],
   "source": [
    "def run_my_model(session, predict, loss_val, X, y, is_training, Xd, yd,\n",
    "              epochs=1, batch_size=64, print_every=100,\n",
    "              training=None, plot_losses=False):\n",
    "    # have tensorflow compute accuracy\n",
    "    correct_prediction = tf.equal(tf.argmax(predict,1), y)\n",
    "    accuracy = tf.reduce_mean(tf.cast(correct_prediction, tf.float32))\n",
    "    \n",
    "    # shuffle indicies\n",
    "    train_indicies = np.arange(Xd.shape[0])\n",
    "    np.random.shuffle(train_indicies)\n",
    "\n",
    "    training_now = training is not None\n",
    "    \n",
    "    # setting up variables we want to compute (and optimizing)\n",
    "    # if we have a training function, add that to things we compute\n",
    "    variables = [loss_val,correct_prediction,accuracy]\n",
    "    if training_now:\n",
    "        variables[-1] = training\n",
    "    \n",
    "    # counter \n",
    "    iter_cnt = 0\n",
    "    for e in range(epochs):\n",
    "        # keep track of losses and accuracy\n",
    "        correct = 0\n",
    "        losses = []\n",
    "        startEpoch = timeit.time.time()\n",
    "        # make sure we iterate over the dataset once\n",
    "        for i in range(int(math.ceil(Xd.shape[0]/batch_size))):\n",
    "            # generate indicies for the batch\n",
    "            start_idx = (i*batch_size)%Xd.shape[0]\n",
    "            idx = train_indicies[start_idx:start_idx+batch_size]\n",
    "            \n",
    "            # create a feed dictionary for this batch\n",
    "            feed_dict = {X: Xd[idx,:],\n",
    "                         y: yd[idx],\n",
    "                         is_training: training_now }\n",
    "            # get batch size\n",
    "            actual_batch_size = yd[idx].shape[0]\n",
    "            \n",
    "            # have tensorflow compute loss and correct predictions\n",
    "            # and (if given) perform a training step\n",
    "            loss, corr, _ = session.run(variables,feed_dict=feed_dict)\n",
    "\n",
    "            # aggregate performance stats\n",
    "            losses.append(loss*actual_batch_size)\n",
    "            correct += np.sum(corr)\n",
    "            \n",
    "            # print every now and then\n",
    "            if training_now and print_every > 0 and (iter_cnt % print_every) == 0:\n",
    "                print(\"Iteration {0}: with minibatch training loss = {1:.3g} and accuracy of {2:.2g}\"\\\n",
    "                      .format(iter_cnt,loss,np.sum(corr)/actual_batch_size))\n",
    "            iter_cnt += 1\n",
    "        total_correct = correct/Xd.shape[0]\n",
    "        total_loss = np.sum(losses)/Xd.shape[0]\n",
    "        print(\"Epoch {2}, Overall loss = {0:.3g}, accuracy of {1:.3g} in {3}ms\"\\\n",
    "              .format(total_loss,total_correct,e+1, timeit.time.time() - startEpoch))\n",
    "        if plot_losses:\n",
    "            plt.plot(losses)\n",
    "            plt.grid(True)\n",
    "            plt.title('Epoch {} Loss'.format(e+1))\n",
    "            plt.xlabel('minibatch number')\n",
    "            plt.ylabel('minibatch loss')\n",
    "            plt.show()\n",
    "    return total_loss,total_correct"
   ]
  },
  {
   "cell_type": "code",
   "execution_count": 38,
   "metadata": {},
   "outputs": [],
   "source": [
    "# Feel free to play with this cell\n",
    "\n",
    "def model_2(X,y, is_training, use_l2=False, l2_scale=0.01, dropout_prob=1.0, hidden_dim=1024):\n",
    "    regularizer = None if use_l2 == False else tf.contrib.layers.l2_regularizer(l2_scale)\n",
    "    out = tf.layers.conv2d(X, 64, 4, strides=2, \n",
    "                           padding='SAME', activation=tf.nn.relu, \n",
    "                           kernel_regularizer = regularizer)\n",
    "    print(out.shape)\n",
    "    out = tf.layers.conv2d(out, 128, 3, strides=1, \n",
    "                           padding='SAME', activation=tf.nn.relu, \n",
    "                           kernel_regularizer = regularizer)\n",
    "    print(out.shape)\n",
    "    out = tf.contrib.layers.max_pool2d(out, 2, stride=2)\n",
    "    print(out.shape)\n",
    "    out = tf.contrib.layers.batch_norm(out, scale=True, is_training=is_training)\n",
    "    out_shape = np.prod(out.get_shape().as_list()[1:])\n",
    "\n",
    "    out = tf.reshape(out, [-1, out_shape])\n",
    "    out = tf.layers.dense(inputs=out, units=hidden_dim, activation=tf.nn.relu,  kernel_regularizer = regularizer) \n",
    "    out = tf.contrib.layers.batch_norm(out, scale=True, is_training=is_training)\n",
    "    out = tf.contrib.layers.dropout(out, keep_prob=dropout_prob, is_training=is_training)\n",
    "\n",
    "    out = tf.layers.dense(inputs=out, units=10,  kernel_regularizer = regularizer)\n",
    "    return out\n",
    "\n",
    "def model_1(X,y, is_training, use_l2=False, l2_scale=0.01, dropout_prob=1.0, hidden_dim=1024):\n",
    "    regularizer = None if use_l2 == False else tf.contrib.layers.l2_regularizer(l2_scale)\n",
    "    out = tf.layers.conv2d(X, 64, 4, strides=2, \n",
    "                           padding='SAME', activation=tf.nn.relu, \n",
    "                           kernel_regularizer = regularizer)\n",
    "    \n",
    "    out = tf.layers.conv2d(out, 128, 3, strides=1, \n",
    "                           padding='SAME', activation=tf.nn.relu, \n",
    "                           kernel_regularizer = regularizer)\n",
    "    \n",
    "    out = tf.contrib.layers.max_pool2d(out, 2, stride=2)\n",
    "    out = tf.contrib.layers.batch_norm(out, scale=True, is_training=is_training)\n",
    "    out_shape = np.prod(out.get_shape().as_list()[1:])\n",
    "\n",
    "    out = tf.reshape(out, [-1, out_shape])\n",
    "    out = tf.layers.dense(inputs=out, units=hidden_dim, activation=tf.nn.relu,  kernel_regularizer = regularizer) \n",
    "    out = tf.contrib.layers.batch_norm(out, scale=True, is_training=is_training)\n",
    "    out = tf.contrib.layers.dropout(out, keep_prob=dropout_prob, is_training=is_training)\n",
    "\n",
    "    out = tf.layers.dense(inputs=out, units=10,  kernel_regularizer = regularizer)\n",
    "    return out\n",
    "\n",
    "\n",
    "def my_model(X,y,is_training, use_l2=False, l2_scale=0.05, dropout_prob=1.0, conv_layers=[(128, 3, 1)], hidden_dim=1024):\n",
    "    \n",
    "    regularizer = None if use_l2 == False else tf.contrib.layers.l2_regularizer(l2_scale)\n",
    "    out = tf.layers.conv2d(X, 128, 3, strides=1, \n",
    "                           padding='SAME', activation=tf.nn.relu, kernel_regularizer = regularizer)\n",
    "\n",
    "    out = tf.layers.conv2d(out, 128, 3, strides=1, \n",
    "                           padding='SAME', activation=tf.nn.relu, kernel_regularizer = regularizer)\n",
    "    #print(out.shape)\n",
    "    out = tf.contrib.layers.max_pool2d(out, 2, stride=2)\n",
    "    #print(out.shape)\n",
    "    out = tf.contrib.layers.batch_norm(out, scale=True, is_training=is_training)\n",
    "    out = tf.contrib.layers.dropout(out, keep_prob=dropout_prob, is_training=is_training)\n",
    "    \n",
    "        \n",
    "    \n",
    "    out_shape = np.prod(out.get_shape().as_list()[1:])\n",
    "\n",
    "    out = tf.reshape(out, [-1, out_shape])\n",
    "    out = tf.layers.dense(inputs=out, units=hidden_dim, activation=tf.nn.relu,  kernel_regularizer = regularizer) \n",
    "    out = tf.contrib.layers.batch_norm(out, scale=True, is_training=is_training)\n",
    "    out = tf.contrib.layers.dropout(out, keep_prob=dropout_prob, is_training=is_training)\n",
    "\n",
    "    out = tf.layers.dense(inputs=out, units=10,  kernel_regularizer = regularizer)\n",
    "    \n",
    "    return out\n",
    "\n",
    "def model_no_dense(X,y,is_training, use_l2=False, l2_scale=0.05, dropout_prob=1.0, conv_layers=[(64, 3, 1)], hidden_dim=2048):\n",
    "    \n",
    "    regularizer = None if use_l2 == False else tf.contrib.layers.l2_regularizer(l2_scale)\n",
    "    out = tf.layers.conv2d(X, 128, 3, 1, \n",
    "                           padding='SAME', activation=tf.nn.relu, kernel_regularizer = regularizer)\n",
    "    out = tf.contrib.layers.batch_norm(out, scale=True, is_training=is_training)\n",
    "    \n",
    "    #print(out.shape)\n",
    "    out = tf.layers.conv2d(out, 128, 3, 2, \n",
    "                           padding='SAME', activation=tf.nn.relu, kernel_regularizer = regularizer)\n",
    "    out = tf.contrib.layers.dropout(out, keep_prob=dropout_prob, is_training=is_training)\n",
    "    #print(out.shape)\n",
    "    out = tf.contrib.layers.max_pool2d(out, 2, stride=2)\n",
    "    #out = tf.contrib.layers.batch_norm(out, scale=True, is_training=is_training)\n",
    "    \n",
    "    #print(out.shape)\n",
    "    out = tf.layers.conv2d(out, 10, 1, 1, \n",
    "                           padding='SAME', activation=tf.nn.relu, kernel_regularizer = regularizer)\n",
    "    out = tf.contrib.layers.dropout(out, keep_prob=dropout_prob, is_training=is_training)\n",
    "    out = tf.contrib.layers.batch_norm(out, scale=True, is_training=is_training)\n",
    "    #print(out.shape)\n",
    "    out = tf.contrib.layers.avg_pool2d(out, out.get_shape().as_list()[1], stride=1)\n",
    "    #print(out.shape)\n",
    "    out = tf.reshape(out, [-1, 10])\n",
    "    #print(out.shape)\n",
    "    return out\n",
    "\n",
    "def build_and_run(epochs=3, learning_rate=1e-3, l2_scale=0.0, dropout_prob=1.0, model=my_model, **kwargs):\n",
    "    startInit = timeit.time.time()\n",
    "    tf.reset_default_graph()\n",
    "    \n",
    "    with tf.variable_scope(\"model\") as scope:\n",
    "        X = tf.placeholder(tf.float32, [None, 32, 32, 3], name='X')\n",
    "        y = tf.placeholder(tf.int64, [None], name='y')\n",
    "        is_training = tf.placeholder(tf.bool, name='is_training')\n",
    "\n",
    "        use_l2 = True if l2_scale > 0 else False\n",
    "\n",
    "        y_out = model(X,y,is_training, use_l2=use_l2, l2_scale=l2_scale, dropout_prob = dropout_prob)\n",
    "        #y_out = model_1(X, y, is_training, use_l2=True, l2_scale=l2_scale)\n",
    "        mean_loss = tf.reduce_mean(tf.losses.softmax_cross_entropy(tf.one_hot(y, 10), y_out))\n",
    "        reg_vars = tf.get_default_graph().get_collection(tf.GraphKeys.REGULARIZATION_LOSSES)\n",
    "        reg_loss = tf.reduce_sum(reg_vars)\n",
    "        total_loss = mean_loss + reg_loss\n",
    "        global_step = tf.Variable(0, trainable=False)\n",
    "        #learning_rate = tf.train.exponential_decay(learning_rate, global_step,\n",
    "        #                                           6100, 0.96, staircase=True)\n",
    "        optimizer = tf.train.AdamOptimizer(learning_rate)\n",
    "\n",
    "        # batch normalization in tensorflow requires this extra dependency\n",
    "        extra_update_ops = tf.get_collection(tf.GraphKeys.UPDATE_OPS)\n",
    "        with tf.control_dependencies(extra_update_ops):\n",
    "            train_step = optimizer.minimize(total_loss, global_step=global_step)\n",
    "\n",
    "    # Feel free to play with this cell\n",
    "    # This default code creates a session\n",
    "    # and trains your model for 10 epochs\n",
    "    # then prints the validation set accuracy\n",
    "    sess = tf.Session()\n",
    "\n",
    "    sess.run(tf.global_variables_initializer())\n",
    "    print( \"Took {}ms to initialize\".format(timeit.time.time() - startInit ) )\n",
    "    training_result = run_my_model(sess, y_out, total_loss, X, y, is_training, X_train, y_train, epochs, 64, 0, train_step, False)\n",
    "    validation_result = run_my_model(sess, y_out, total_loss, X, y, is_training, X_val, y_val,1, 64)\n",
    "    return training_result, validation_result, (X, y, y_out, total_loss, is_training, sess)"
   ]
  },
  {
   "cell_type": "code",
   "execution_count": 15,
   "metadata": {},
   "outputs": [
    {
     "name": "stdout",
     "output_type": "stream",
     "text": [
      "Took 0.6252398490905762ms to initialize\n",
      "Epoch 1, Overall loss = 2.61, accuracy of 0.287 in 44.997503995895386ms\n",
      "Epoch 2, Overall loss = 2.18, accuracy of 0.378 in 44.854987382888794ms\n",
      "Epoch 3, Overall loss = 1.98, accuracy of 0.42 in 44.83488893508911ms\n",
      "Epoch 4, Overall loss = 1.85, accuracy of 0.449 in 44.810407876968384ms\n",
      "Epoch 5, Overall loss = 1.74, accuracy of 0.473 in 44.869213342666626ms\n",
      "Epoch 6, Overall loss = 1.65, accuracy of 0.492 in 44.79876351356506ms\n",
      "Epoch 7, Overall loss = 1.58, accuracy of 0.509 in 44.84542417526245ms\n",
      "Epoch 1, Overall loss = 1.23, accuracy of 0.583 in 0.27802443504333496ms\n",
      "Took 0.7138783931732178ms to initialize\n",
      "Epoch 1, Overall loss = 1.87, accuracy of 0.46 in 44.873393535614014ms\n",
      "Epoch 2, Overall loss = 1.2, accuracy of 0.609 in 44.822998046875ms\n",
      "Epoch 3, Overall loss = 0.923, accuracy of 0.684 in 44.767751932144165ms\n",
      "Epoch 4, Overall loss = 0.747, accuracy of 0.741 in 44.846564054489136ms\n",
      "Epoch 5, Overall loss = 0.615, accuracy of 0.784 in 44.782729387283325ms\n",
      "Epoch 6, Overall loss = 0.508, accuracy of 0.821 in 44.79063653945923ms\n",
      "Epoch 7, Overall loss = 0.432, accuracy of 0.851 in 44.83922266960144ms\n",
      "Epoch 1, Overall loss = 0.78, accuracy of 0.749 in 0.2822535037994385ms\n",
      "Took 0.6203203201293945ms to initialize\n",
      "Epoch 1, Overall loss = 1.65, accuracy of 0.49 in 44.890466928482056ms\n",
      "Epoch 2, Overall loss = 1.04, accuracy of 0.654 in 44.78700375556946ms\n",
      "Epoch 3, Overall loss = 0.713, accuracy of 0.753 in 44.742156982421875ms\n",
      "Epoch 4, Overall loss = 0.478, accuracy of 0.832 in 44.833449602127075ms\n",
      "Epoch 5, Overall loss = 0.312, accuracy of 0.895 in 44.81425595283508ms\n",
      "Epoch 6, Overall loss = 0.213, accuracy of 0.931 in 44.79892826080322ms\n",
      "Epoch 7, Overall loss = 0.149, accuracy of 0.955 in 44.765175580978394ms\n",
      "Epoch 1, Overall loss = 0.978, accuracy of 0.695 in 0.28057050704956055ms\n",
      "Took 0.7210946083068848ms to initialize\n",
      "Epoch 1, Overall loss = 2.09, accuracy of 0.378 in 44.94022607803345ms\n",
      "Epoch 2, Overall loss = 1.62, accuracy of 0.487 in 44.859551191329956ms\n",
      "Epoch 3, Overall loss = 1.4, accuracy of 0.544 in 44.9164137840271ms\n",
      "Epoch 4, Overall loss = 1.25, accuracy of 0.587 in 44.87195110321045ms\n",
      "Epoch 5, Overall loss = 1.11, accuracy of 0.624 in 44.875351428985596ms\n",
      "Epoch 6, Overall loss = 1.01, accuracy of 0.658 in 44.87923741340637ms\n",
      "Epoch 7, Overall loss = 0.913, accuracy of 0.686 in 44.84683060646057ms\n",
      "Epoch 1, Overall loss = 1, accuracy of 0.669 in 0.28244662284851074ms\n",
      "Took 0.6200752258300781ms to initialize\n",
      "Epoch 1, Overall loss = 1.66, accuracy of 0.487 in 44.998867988586426ms\n",
      "Epoch 2, Overall loss = 1.07, accuracy of 0.645 in 44.85504984855652ms\n",
      "Epoch 3, Overall loss = 0.748, accuracy of 0.743 in 44.84841561317444ms\n",
      "Epoch 4, Overall loss = 0.509, accuracy of 0.822 in 44.82646417617798ms\n",
      "Epoch 5, Overall loss = 0.341, accuracy of 0.882 in 44.814512968063354ms\n",
      "Epoch 6, Overall loss = 0.233, accuracy of 0.924 in 44.83520245552063ms\n",
      "Epoch 7, Overall loss = 0.163, accuracy of 0.948 in 44.82986068725586ms\n",
      "Epoch 1, Overall loss = 0.989, accuracy of 0.687 in 0.2785305976867676ms\n",
      "(0.00023613051141327127, 0, 0.40000000000000002) \n",
      " ((0.4319652012781221, 0.85099999999999998), (0.77951941108703615, 0.749)) \n",
      "\n",
      "(9.633418017719477e-05, 0, 0.59999999999999998) \n",
      " ((0.16311024836374788, 0.94838775510204076), (0.9893989758491516, 0.68700000000000006)) \n",
      "\n",
      "(0.0001172019773928608, 0, 0.59999999999999998) \n",
      " ((0.14915367297007112, 0.9549183673469388), (0.97822196960449215, 0.69499999999999995)) \n",
      "\n",
      "(3.665616896630915e-06, 0, 0.5) \n",
      " ((1.5816486384917279, 0.50891836734693874), (1.2283385963439941, 0.58299999999999996)) \n",
      "\n",
      "(9.932541073480527e-06, 0, 0.59999999999999998) \n",
      " ((0.91267030281923256, 0.68620408163265301), (1.0033860630989075, 0.66900000000000004)) \n",
      "\n"
     ]
    }
   ],
   "source": [
    "results = {}\n",
    "\n",
    "for i in range(5):\n",
    "    learning_rate  = 10 ** np.random.uniform(-5.5, -3)\n",
    "    l2_reg_strengh = 0 #10 ** np.random.uniform(-4, -2.5)\n",
    "    dropout_keep_probs = np.floor(np.random.uniform(4, 7)) / 10\n",
    "    try:\n",
    "        train_res, val_res, _ = build_and_run(7, learning_rate, l2_reg_strengh, dropout_keep_probs, my_model)\n",
    "        results[(learning_rate, l2_reg_strengh, dropout_keep_probs)] = (train_res, val_res)\n",
    "    except KeyboardInterrupt:\n",
    "        pass\n",
    "\n",
    "for result in results:\n",
    "    print(result, '\\n', results[result],'\\n')"
   ]
  },
  {
   "cell_type": "code",
   "execution_count": 41,
   "metadata": {},
   "outputs": [
    {
     "name": "stdout",
     "output_type": "stream",
     "text": [
      "Took 0.6188013553619385ms to initialize\n",
      "Epoch 1, Overall loss = 1.91, accuracy of 0.455 in 45.003119707107544ms\n",
      "Epoch 2, Overall loss = 1.2, accuracy of 0.608 in 44.812737464904785ms\n",
      "Epoch 3, Overall loss = 0.912, accuracy of 0.688 in 44.8426034450531ms\n",
      "Epoch 4, Overall loss = 0.731, accuracy of 0.747 in 44.79987812042236ms\n",
      "Epoch 5, Overall loss = 0.598, accuracy of 0.788 in 44.75842356681824ms\n",
      "Epoch 6, Overall loss = 0.502, accuracy of 0.823 in 44.819610357284546ms\n",
      "Epoch 7, Overall loss = 0.425, accuracy of 0.85 in 44.82957196235657ms\n",
      "Epoch 8, Overall loss = 0.365, accuracy of 0.873 in 44.8239107131958ms\n",
      "Epoch 9, Overall loss = 0.305, accuracy of 0.895 in 44.84613490104675ms\n",
      "Epoch 10, Overall loss = 0.276, accuracy of 0.905 in 44.76142334938049ms\n",
      "Epoch 11, Overall loss = 0.246, accuracy of 0.914 in 44.80635714530945ms\n",
      "Epoch 12, Overall loss = 0.218, accuracy of 0.925 in 44.79573392868042ms\n",
      "Epoch 1, Overall loss = 0.785, accuracy of 0.758 in 0.27863001823425293ms\n"
     ]
    }
   ],
   "source": [
    "train_res, val_res, model_vars = build_and_run(12,0.00023613051141327127, 0, 0.40000000000000002, my_model)"
   ]
  },
  {
   "cell_type": "code",
   "execution_count": 42,
   "metadata": {},
   "outputs": [
    {
     "name": "stdout",
     "output_type": "stream",
     "text": [
      "[]\n",
      "Training\n",
      "Epoch 1, Overall loss = 0.0763, accuracy of 0.989 in 12.25426959991455ms\n",
      "Validation\n",
      "Epoch 1, Overall loss = 0.785, accuracy of 0.758 in 0.2841918468475342ms\n"
     ]
    },
    {
     "data": {
      "text/plain": [
       "(0.78539104747772215, 0.75800000000000001)"
      ]
     },
     "execution_count": 42,
     "metadata": {},
     "output_type": "execute_result"
    }
   ],
   "source": [
    "X, y, y_out, total_loss, is_training, sess = model_vars\n",
    "\n",
    "print(sess.run(tf.report_uninitialized_variables()))\n",
    "# Test your model here, and make sure \n",
    "# the output of this cell is the accuracy\n",
    "# of your best model on the training and val sets\n",
    "# We're looking for >= 70% accuracy on Validation\n",
    "print('Training')\n",
    "run_my_model(sess, y_out, total_loss, X, y, is_training, X_train, y_train)\n",
    "print('Validation')\n",
    "run_my_model(sess, y_out, total_loss, X, y, is_training, X_val, y_val)"
   ]
  },
  {
   "cell_type": "markdown",
   "metadata": {},
   "source": [
    "### Describe what you did here\n",
    "In this cell you should also write an explanation of what you did, any additional features that you implemented, and any visualizations or graphs that you make in the process of training and evaluating your network"
   ]
  },
  {
   "cell_type": "markdown",
   "metadata": {},
   "source": [
    " - Conv2d - Filter 3x3 - Channels: 128 - Stride: 1 - Padding: Same\n",
    " - ReLU\n",
    " - Conv2d - Filter 3x3 - Channels: 128 - Stride: 1 - Padding: Same\n",
    " - ReLU\n",
    " - Max Pooling - Kernel 2x2 - Stride: 2\n",
    " - Batch Norm\n",
    " - Dropout\n",
    " - Flatten\n",
    " - Dense Units: 1024 - ReLU Activation\n",
    " - Batch Norm\n",
    " - Dropout\n",
    " - Dense Units: 10 - ReLU Activation\n",
    "\n",
    "I tried other configuration, but I think this was the simplest one"
   ]
  },
  {
   "cell_type": "markdown",
   "metadata": {},
   "source": [
    "### Test Set - Do this only once\n",
    "Now that we've gotten a result that we're happy with, we test our final model on the test set. This would be the score we would achieve on a competition. Think about how this compares to your validation set accuracy."
   ]
  },
  {
   "cell_type": "code",
   "execution_count": 44,
   "metadata": {},
   "outputs": [
    {
     "name": "stdout",
     "output_type": "stream",
     "text": [
      "Test\n",
      "Epoch 1, Overall loss = 0.786, accuracy of 0.747 in 2.633101224899292ms\n"
     ]
    },
    {
     "data": {
      "text/plain": [
       "(0.78614156970977778, 0.74739999999999995)"
      ]
     },
     "execution_count": 44,
     "metadata": {},
     "output_type": "execute_result"
    }
   ],
   "source": [
    "print('Test')\n",
    "run_my_model(sess, y_out, total_loss, X, y, is_training, X_test, y_test)"
   ]
  },
  {
   "cell_type": "markdown",
   "metadata": {},
   "source": [
    "## Going further with TensorFlow\n",
    "\n",
    "The next assignment will make heavy use of TensorFlow. You might also find it useful for your projects. \n"
   ]
  },
  {
   "cell_type": "markdown",
   "metadata": {},
   "source": [
    "# Extra Credit Description\n",
    "If you implement any additional features for extra credit, clearly describe them here with pointers to any code in this or other files if applicable."
   ]
  }
 ],
 "metadata": {
  "kernelspec": {
   "display_name": "Python 3",
   "language": "python",
   "name": "python3"
  },
  "language_info": {
   "codemirror_mode": {
    "name": "ipython",
    "version": 3
   },
   "file_extension": ".py",
   "mimetype": "text/x-python",
   "name": "python",
   "nbconvert_exporter": "python",
   "pygments_lexer": "ipython3",
   "version": "3.5.2"
  }
 },
 "nbformat": 4,
 "nbformat_minor": 1
}
